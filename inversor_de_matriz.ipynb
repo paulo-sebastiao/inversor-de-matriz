{
 "cells": [
  {
   "cell_type": "code",
   "execution_count": 534,
   "metadata": {},
   "outputs": [],
   "source": [
    "import numpy as np"
   ]
  },
  {
   "cell_type": "code",
   "execution_count": 535,
   "metadata": {},
   "outputs": [],
   "source": [
    "def identidade(m):\n",
    "    m = np.zeros_like(m)\n",
    "    for i in range(len(m)):\n",
    "        m[i][i] = 1\n",
    "    return m"
   ]
  },
  {
   "cell_type": "code",
   "execution_count": 536,
   "metadata": {},
   "outputs": [],
   "source": [
    "def procurar(m, j):\n",
    "    a = 0\n",
    "    while (m[a][j] == 0):\n",
    "        a += 1\n",
    "    return a"
   ]
  },
  {
   "cell_type": "code",
   "execution_count": 537,
   "metadata": {},
   "outputs": [],
   "source": [
    "def alpha(a1, a2):\n",
    "    alpha = (a1[0] - 1)/a2[0]\n",
    "    return alpha"
   ]
  },
  {
   "cell_type": "code",
   "execution_count": 538,
   "metadata": {},
   "outputs": [],
   "source": [
    "def escalonar0(a1, a2, beta):\n",
    "    for i in range(len(a1)):\n",
    "        a1[i] = a1[i] - a2[i] *beta\n",
    "    return a1 "
   ]
  },
  {
   "cell_type": "code",
   "execution_count": 539,
   "metadata": {},
   "outputs": [],
   "source": [
    "def escalonar1(a1, a2, alpha): \n",
    "    for i in range(len(a1)):\n",
    "        a1[i] = a1[i] - a2[i] * alpha\n",
    "    a1[1] = a1[1] - a2[1] * alpha\n",
    "    return a1 "
   ]
  },
  {
   "cell_type": "code",
   "execution_count": 540,
   "metadata": {},
   "outputs": [],
   "source": [
    "def dividir(a1, div):\n",
    "    for i in range(len(a1)):\n",
    "        a1[i] = a1[i] / div\n",
    "    return a1 "
   ]
  },
  {
   "cell_type": "code",
   "execution_count": 541,
   "metadata": {},
   "outputs": [],
   "source": [
    "def inversivel(m):\n",
    "    if (np.linalg.det(m) != 0):\n",
    "        return 1\n",
    "    else:\n",
    "        return 0"
   ]
  },
  {
   "cell_type": "code",
   "execution_count": 542,
   "metadata": {},
   "outputs": [],
   "source": [
    "def mult(obj):\n",
    "    matriz = np.array(obj)\n",
    "    matriz = matriz.astype(float)\n",
    "    if (inversivel(matriz) == 0):\n",
    "        return \"matriz não inversivel\"\n",
    "    inversa = np.array(identidade(matriz))\n",
    "    inversa = inversa.astype(float)\n",
    "    largura = len(matriz[0])\n",
    "    altura = len(matriz)\n",
    "    for j in range(largura):\n",
    "        if (matriz[j][j] == 0): \n",
    "            procura = procurar(matriz, j)\n",
    "            inversa[j] = escalonar1(inversa[j] , inversa[procura], alpha(matriz[j] , matriz[procura]))\n",
    "            matriz[j] = escalonar1(matriz[j] , matriz[procura], alpha(matriz[j] , matriz[procura]))\n",
    "        else:\n",
    "            inversa[j] = dividir(inversa[j], matriz[j][j])\n",
    "            matriz[j] = dividir(matriz[j], matriz[j][j])\n",
    "        for i in range(altura):\n",
    "            if(i != j):\n",
    "                inversa[i] = escalonar0(inversa[i], inversa[j], matriz[i][j])\n",
    "                matriz[i] = escalonar0(matriz[i], matriz[j], matriz[i][j])\n",
    "    return inversa"
   ]
  },
  {
   "cell_type": "code",
   "execution_count": 543,
   "metadata": {},
   "outputs": [
    {
     "data": {
      "text/plain": [
       "array([[-0.85714286, -0.35714286,  0.28571429],\n",
       "       [ 0.31428571,  0.11428571,  0.02857143],\n",
       "       [ 0.02857143,  0.07857143, -0.04285714]])"
      ]
     },
     "execution_count": 543,
     "metadata": {},
     "output_type": "execute_result"
    }
   ],
   "source": [
    "mult([[0, 1, 2], [2, 4, 16], [3, 8, 2]])"
   ]
  }
 ],
 "metadata": {
  "kernelspec": {
   "display_name": "tf",
   "language": "python",
   "name": "tf"
  },
  "language_info": {
   "codemirror_mode": {
    "name": "ipython",
    "version": 3
   },
   "file_extension": ".py",
   "mimetype": "text/x-python",
   "name": "python",
   "nbconvert_exporter": "python",
   "pygments_lexer": "ipython3",
   "version": "3.6.10"
  }
 },
 "nbformat": 4,
 "nbformat_minor": 4
}
